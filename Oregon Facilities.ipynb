{
 "cells": [
  {
   "cell_type": "code",
   "execution_count": 55,
   "id": "8c161d79",
   "metadata": {},
   "outputs": [],
   "source": [
    "#IMPORT DEPENDENCIES \n",
    "import requests\n",
    "#module for matching patterns\n",
    "import glob\n",
    "#time allows the code to pause so we don't break the server - it is polite to not overwhelm it\n",
    "import time\n",
    "\n",
    "from bs4 import BeautifulSoup\n",
    "import csv\n",
    "from pathlib import Path"
   ]
  },
  {
   "cell_type": "code",
   "execution_count": 56,
   "id": "a08a17fc",
   "metadata": {},
   "outputs": [],
   "source": [
    "data = []\n",
    "\n",
    "#create a list of headers\n",
    "csv_headers = ['facility', 'city','facility_type', 'beds', 'funding', 'status']"
   ]
  },
  {
   "cell_type": "code",
   "execution_count": 58,
   "id": "c9936a2e",
   "metadata": {},
   "outputs": [],
   "source": [
    "for page_number in range(1, 379):\n",
    "    full_url = f\"https://ltclicensing.oregon.gov/Facilities?page={page_number}&RangeValue=50&AFH=False&ALF=False&NF=False&RCF=False&Medicaid=False&Medicare=False&PrivatePay=False&OpenOnly=False\"\n",
    "    #print(full_url)\n",
    "    html_filename = f\"facilities_search_page_{page_number}.html\"\n",
    "# You need to have `from pathlib import Path` soemwhere in order to do this\n",
    "    if Path(html_filename).exists():\n",
    "        continue\n",
    "    r = requests.get(full_url)\n",
    "    with open(html_filename, 'w') as outfile:\n",
    "        outfile.write(r.text)\n",
    "    time.sleep(0.5)"
   ]
  },
  {
   "cell_type": "code",
   "execution_count": 60,
   "id": "6158bf33",
   "metadata": {},
   "outputs": [],
   "source": [
    "html_files = glob.glob('*.html')\n",
    "#html_files"
   ]
  },
  {
   "cell_type": "code",
   "execution_count": null,
   "id": "c5228eb1",
   "metadata": {},
   "outputs": [],
   "source": [
    "for file in html_files:\n",
    "    with open(file, 'r') as infile:\n",
    "        html = infile.read()\n",
    "        \n",
    "    soup = BeautifulSoup(html, 'html.parser')\n",
    "    table = soup.find('table')\n",
    "    rows = table.find_all('tr')\n",
    "    \n",
    "    for row in rows[1:]:\n",
    "        cells = row.find_all('td')\n",
    "        facility = cells[0].get_text(strip=True)\n",
    "        city = cells[1].get_text(strip=True)\n",
    "        facility_type = cells[2].get_text(strip=True)\n",
    "        beds = cells[3].get_text(strip=True)\n",
    "        funding = cells[4].get_text(strip=True)\n",
    "        status = cells[5].get_text(strip=True)\n",
    "    \n",
    "    #drop all the values into a list\n",
    "        data_to_write = [facility, \n",
    "                     city, \n",
    "                     facility_type, \n",
    "                     beds, \n",
    "                     funding, \n",
    "                     status]\n",
    "    \n",
    "    #append the lsit to empty headers\n",
    "        data.append(data_to_write)\n",
    "    #print(type_code)\n",
    "    #print('='*50)\n",
    "    \n",
    "    \n",
    "    \n",
    "        \n",
    "    time.sleep(0.5)\n",
    "\n",
    "with open('all-facilities.csv', 'w', newline='') as outfile:\n",
    "        writer = csv.writer(outfile)\n",
    "        writer.writerow(csv_headers)\n",
    "        writer.writerows(data)\n",
    "        "
   ]
  },
  {
   "cell_type": "code",
   "execution_count": null,
   "id": "eaf5d578",
   "metadata": {},
   "outputs": [],
   "source": []
  }
 ],
 "metadata": {
  "kernelspec": {
   "display_name": "Python 3",
   "language": "python",
   "name": "python3"
  },
  "language_info": {
   "codemirror_mode": {
    "name": "ipython",
    "version": 3
   },
   "file_extension": ".py",
   "mimetype": "text/x-python",
   "name": "python",
   "nbconvert_exporter": "python",
   "pygments_lexer": "ipython3",
   "version": "3.8.8"
  }
 },
 "nbformat": 4,
 "nbformat_minor": 5
}
